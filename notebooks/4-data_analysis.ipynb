{
 "cells": [
  {
   "cell_type": "markdown",
   "metadata": {
    "id": "PoxkFVyPmKMJ"
   },
   "source": [
    "# 4.0 - Data Analysis\n",
    "This notebook is for analysing the transformed data."
   ]
  },
  {
   "cell_type": "markdown",
   "metadata": {
    "colab": {
     "base_uri": "https://localhost:8080/"
    },
    "executionInfo": {
     "elapsed": 295223,
     "status": "ok",
     "timestamp": 1703770251981,
     "user": {
      "displayName": "Nischa564",
      "userId": "09387795752635677771"
     },
     "user_tz": -60
    },
    "id": "iF1MPPTSmVVY",
    "outputId": "42416b57-c726-42e0-9e49-361df2b73313"
   },
   "source": [
    "## Imports and loading\n",
    "Import necessary packages and load the transformed data."
   ]
  },
  {
   "cell_type": "code",
   "execution_count": null,
   "metadata": {},
   "outputs": [],
   "source": [
    "import pandas as pd\n",
    "import numpy as np\n",
    "import matplotlib.pyplot as plt\n",
    "import statsmodels.api as sm\n",
    "from statsmodels.graphics.tsaplots import plot_predict\n",
    "from sklearn.model_selection import train_test_split\n",
    "from sklearn.metrics import mean_absolute_error, mean_squared_error, r2_score, explained_variance_score, accuracy_score, balanced_accuracy_score, f1_score, precision_score, recall_score\n",
    "from sklearn.dummy import DummyRegressor\n",
    "from sklearn.tree import DecisionTreeRegressor\n",
    "from sklearn.ensemble import RandomForestRegressor\n",
    "from sklearn.linear_model import LinearRegression"
   ]
  },
  {
   "cell_type": "code",
   "execution_count": null,
   "metadata": {},
   "outputs": [],
   "source": [
    "# load transformed file\n",
    "df = pd.read_csv('../data/transformed/transformed.csv')"
   ]
  },
  {
   "cell_type": "code",
   "execution_count": null,
   "metadata": {},
   "outputs": [],
   "source": [
    "# Define a list to save the results\n",
    "train_scores = []\n",
    "test_scores = []\n",
    "\n",
    "# Define a list to name the different models\n",
    "models = []"
   ]
  },
  {
   "cell_type": "markdown",
   "metadata": {},
   "source": [
    "## Analysis"
   ]
  },
  {
   "cell_type": "markdown",
   "metadata": {},
   "source": [
    "### Split Data in Trainset and Testset\n",
    "In order to train and evaluate the model, we need a train set and a test set."
   ]
  },
  {
   "cell_type": "code",
   "execution_count": null,
   "metadata": {},
   "outputs": [],
   "source": [
    "# Define X and y\n",
    "y = df['<Target Column>']\n",
    "X = df.drop(columns=['<Target Column>'])\n",
    "\n",
    "# Split the data\n",
    "X_train, X_test, y_train, y_test = train_test_split(X, y, test_size=0.3, random_state=42)\n",
    "\n",
    "# Get train and test size\n",
    "train_size = len(y_train)\n",
    "test_size = len(y_test)"
   ]
  },
  {
   "cell_type": "markdown",
   "metadata": {},
   "source": [
    "### Define a Baseline\n",
    "A baseline model is a simple, often naive, model that serves as a point of reference for evaluating the performance of more sophisticated machine learning models. A baseline model provides a benchmark against which the performance of more complex models can be compared. It serves as a starting point for assessing the effectiveness of your machine learning solution."
   ]
  },
  {
   "cell_type": "markdown",
   "metadata": {},
   "source": [
    "#### Simple Baseline"
   ]
  },
  {
   "cell_type": "code",
   "execution_count": null,
   "metadata": {},
   "outputs": [],
   "source": [
    "# Name the model\n",
    "models.append('Simple Baseline')\n",
    "\n",
    "# Define the dummy regressor\n",
    "dr = DummyRegressor(strategy='mean')\n",
    "\n",
    "# Fit the model\n",
    "dr.fit(X_train, y_train)\n",
    "\n",
    "# Get train and test prediction\n",
    "pred_train = dr.predict(X_train)\n",
    "pred_test = dr.predict(X_test)\n",
    "\n",
    "# Compute the score\n",
    "train_score = mean_absolute_error(y_train, pred_train)\n",
    "test_score = mean_absolute_error(y_test, pred_test)\n",
    "\n",
    "# Add score to list\n",
    "train_scores.append(train_score)\n",
    "test_scores.append(test_score)"
   ]
  },
  {
   "cell_type": "code",
   "execution_count": null,
   "metadata": {},
   "outputs": [],
   "source": [
    "# Plot the test prediction\n",
    "fig, ax = plt.subplots()\n",
    "ax = df['<Target Column>'].plot(ax=ax)\n",
    "plt.plot(pred_test, label='Baseline Prediction')\n",
    "plt.xlabel('Index')\n",
    "plt.ylabel('Target')\n",
    "plt.show()"
   ]
  },
  {
   "cell_type": "markdown",
   "metadata": {},
   "source": [
    "#### ARIMA Baseline\n",
    "ARIMA is designed to handle univariate time series data and is effective for capturing and forecasting temporal patterns in a dataset. It is a versatile model that combines autoregression, differencing, and moving averages to make predictions."
   ]
  },
  {
   "cell_type": "code",
   "execution_count": null,
   "metadata": {},
   "outputs": [],
   "source": [
    "# Name the model\n",
    "models.append('ARIMA')\n",
    "\n",
    "# Define the order\n",
    "order = (0,1,0)\n",
    "\n",
    "# Define the ARIMA model\n",
    "model = sm.tsa.arima.ARIMA(df['<Target Column>'], order=order)\n",
    "\n",
    "# Fit the model\n",
    "results = model.fit()\n",
    "\n",
    "# Get train and test prediction\n",
    "pred_train = results.predict(end=train_size-1)\n",
    "pred_test = results.predict(start=train_size)\n",
    "\n",
    "# Compute the score\n",
    "train_score = mean_absolute_error(y_train, pred_train)\n",
    "test_score = mean_absolute_error(y_test, pred_test)\n",
    "\n",
    "# Add score to list\n",
    "train_scores.append(train_score)\n",
    "test_scores.append(test_score)"
   ]
  },
  {
   "cell_type": "code",
   "execution_count": null,
   "metadata": {},
   "outputs": [],
   "source": [
    "# Plot the prediction\n",
    "fig, ax = plt.subplots()\n",
    "ax = df['<Target Column'].plot(ax=ax)\n",
    "plot_predict(results, train_size, train_size + test_size - 1, ax=ax)\n",
    "plt.xlabel('Index')\n",
    "plt.ylabel(f'Target')\n",
    "plt.show()"
   ]
  },
  {
   "cell_type": "markdown",
   "metadata": {},
   "source": [
    "### Train and Evaluate ML Models\n",
    "Train and evaluate different models with different hyperparameter."
   ]
  },
  {
   "cell_type": "markdown",
   "metadata": {},
   "source": [
    "#### Linear Regression"
   ]
  },
  {
   "cell_type": "code",
   "execution_count": null,
   "metadata": {},
   "outputs": [],
   "source": [
    "# Name the model\n",
    "models.append('Linear Regression')\n",
    "\n",
    "# Define a linear regression\n",
    "lr = LinearRegression()\n",
    "\n",
    "# Fit the model\n",
    "lr.fit(X_train, y_train)\n",
    "\n",
    "# Get train and test prediction\n",
    "pred_train = lr.predict(X_train)\n",
    "pred_test = lr.predict(X_test)\n",
    "\n",
    "# Compute the score\n",
    "train_score = mean_absolute_error(y_train, pred_train)\n",
    "test_score = mean_absolute_error(y_test, pred_test)\n",
    "\n",
    "# Add score to list\n",
    "train_scores.append(train_score)\n",
    "test_scores.append(test_score)"
   ]
  },
  {
   "cell_type": "code",
   "execution_count": null,
   "metadata": {},
   "outputs": [],
   "source": [
    "# Plot the test prediction\n",
    "fig, ax = plt.subplots()\n",
    "ax = df['<Target Column'].plot(ax=ax)\n",
    "plt.plot(pred_test, label='Linear Regression Prediction')\n",
    "plt.xlabel('Index')\n",
    "plt.ylabel('Target')\n",
    "plt.show()"
   ]
  },
  {
   "cell_type": "markdown",
   "metadata": {},
   "source": [
    "#### Decision Tree"
   ]
  },
  {
   "cell_type": "code",
   "execution_count": null,
   "metadata": {},
   "outputs": [],
   "source": [
    "# Name the model\n",
    "models.append('Decision Tree')\n",
    "\n",
    "# Define a decision tree\n",
    "dt = DecisionTreeRegressor(criterion='squared_error', max_depth=None)\n",
    "\n",
    "# Fit the model\n",
    "dt.fit(X_train, y_train)\n",
    "\n",
    "# Get train and test prediction\n",
    "pred_train = dt.predict(X_train)\n",
    "pred_test = dt.predict(X_test)\n",
    "\n",
    "# Compute the score\n",
    "train_score = mean_absolute_error(y_train, pred_train)\n",
    "test_score = mean_absolute_error(y_test, pred_test)\n",
    "\n",
    "# Add score to list\n",
    "train_scores.append(train_score)\n",
    "test_scores.append(test_score)"
   ]
  },
  {
   "cell_type": "code",
   "execution_count": null,
   "metadata": {},
   "outputs": [],
   "source": [
    "# Plot the test prediction\n",
    "fig, ax = plt.subplots()\n",
    "ax = df['<Target Column'].plot(ax=ax)\n",
    "plt.plot(pred_test, label='Decision Tree Prediction')\n",
    "plt.xlabel('Index')\n",
    "plt.ylabel('Target')\n",
    "plt.show()"
   ]
  },
  {
   "cell_type": "markdown",
   "metadata": {},
   "source": [
    "#### Random Forest"
   ]
  },
  {
   "cell_type": "code",
   "execution_count": null,
   "metadata": {},
   "outputs": [],
   "source": [
    "# Name the model\n",
    "models.append('Random Forest')\n",
    "\n",
    "# Define a random forest\n",
    "rf = RandomForestRegressor(n_estimators=100, criterion='squared_error', max_depth=None)\n",
    "\n",
    "# Fit the model\n",
    "rf.fit(X_train, y_train)\n",
    "\n",
    "# Get train and test prediction\n",
    "pred_train = dt.predict(X_train)\n",
    "pred_test = dt.predict(X_test)\n",
    "\n",
    "# Compute the score\n",
    "train_score = mean_absolute_error(y_train, pred_train)\n",
    "test_score = mean_absolute_error(y_test, pred_test)\n",
    "\n",
    "# Add score to list\n",
    "train_scores.append(train_score)\n",
    "test_scores.append(test_score)"
   ]
  },
  {
   "cell_type": "code",
   "execution_count": null,
   "metadata": {},
   "outputs": [],
   "source": [
    "# Plot the test prediction\n",
    "fig, ax = plt.subplots()\n",
    "ax = df['<Target Column'].plot(ax=ax)\n",
    "plt.plot(pred_test, label='Random Forest Prediction')\n",
    "plt.xlabel('Index')\n",
    "plt.ylabel('Target')\n",
    "plt.show()"
   ]
  },
  {
   "cell_type": "markdown",
   "metadata": {},
   "source": [
    "### Compare the Results"
   ]
  },
  {
   "cell_type": "code",
   "execution_count": null,
   "metadata": {},
   "outputs": [],
   "source": [
    "x = np.arange(len(models))\n",
    "width = 0.3\n",
    "\n",
    "plt.bar(x - 0.17, train_scores, width, label='Train')\n",
    "plt.bar(x + 0.17, test_scores, width, label='Test')\n",
    "plt.xticks(ticks=x, labels=models, rotation=45)\n",
    "plt.xlabel('Models')\n",
    "plt.ylabel(f'Scores')\n",
    "plt.legend()\n",
    "plt.show()"
   ]
  },
  {
   "cell_type": "code",
   "execution_count": null,
   "metadata": {},
   "outputs": [],
   "source": []
  }
 ],
 "metadata": {
  "colab": {
   "authorship_tag": "ABX9TyN4Pvx8rIJWWog9ZJOkf8EJ",
   "provenance": [],
   "toc_visible": true
  },
  "kernelspec": {
   "display_name": "template_env",
   "language": "python",
   "name": "template_env"
  },
  "language_info": {
   "codemirror_mode": {
    "name": "ipython",
    "version": 3
   },
   "file_extension": ".py",
   "mimetype": "text/x-python",
   "name": "python",
   "nbconvert_exporter": "python",
   "pygments_lexer": "ipython3",
   "version": "3.9.18"
  }
 },
 "nbformat": 4,
 "nbformat_minor": 4
}
