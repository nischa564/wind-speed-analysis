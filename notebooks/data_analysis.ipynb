{
 "cells": [
  {
   "cell_type": "markdown",
   "metadata": {},
   "source": [
    "# 1.0 Data Exploration\n",
    "\n",
    "## Imports and loading\n",
    "Import necessary packages and load the raw data."
   ]
  },
  {
   "cell_type": "code",
   "execution_count": null,
   "metadata": {},
   "outputs": [],
   "source": [
    "import sys\n",
    "if 'google.colab' in sys.modules:\n",
    "    ! git clone https://github.com/nischa564/wind-speed-analysis.git # clone repository for colab\n",
    "    ! ls"
   ]
  },
  {
   "cell_type": "code",
   "execution_count": null,
   "metadata": {},
   "outputs": [],
   "source": [
    "import pandas as pd\n",
    "import numpy as np\n",
    "import matplotlib.pyplot as plt\n",
    "import plotly.graph_objs as go"
   ]
  },
  {
   "cell_type": "code",
   "execution_count": null,
   "metadata": {},
   "outputs": [],
   "source": [
    "# load csv file\n",
    "df = pd.read_csv('wind-speed-analysis/data/raw/wind_dataset.csv')"
   ]
  },
  {
   "cell_type": "markdown",
   "metadata": {},
   "source": [
    "## Display the Dataset"
   ]
  },
  {
   "cell_type": "code",
   "execution_count": null,
   "metadata": {},
   "outputs": [],
   "source": [
    "df"
   ]
  },
  {
   "cell_type": "markdown",
   "metadata": {},
   "source": [
    "## Statistics about the Data"
   ]
  },
  {
   "cell_type": "code",
   "execution_count": null,
   "metadata": {},
   "outputs": [],
   "source": [
    "df.shape\n",
    "# (#rows, #columns)"
   ]
  },
  {
   "cell_type": "code",
   "execution_count": null,
   "metadata": {},
   "outputs": [],
   "source": [
    "df.dtypes"
   ]
  },
  {
   "cell_type": "code",
   "execution_count": null,
   "metadata": {},
   "outputs": [],
   "source": [
    "df.describe()"
   ]
  },
  {
   "cell_type": "code",
   "execution_count": null,
   "metadata": {},
   "outputs": [],
   "source": [
    "missing_values = df.isnull().sum()\n",
    "print(missing_values)"
   ]
  },
  {
   "cell_type": "markdown",
   "metadata": {},
   "source": [
    "## Visualize the Data"
   ]
  },
  {
   "cell_type": "markdown",
   "metadata": {},
   "source": [
    "### Line Plot"
   ]
  },
  {
   "cell_type": "code",
   "execution_count": null,
   "metadata": {},
   "outputs": [],
   "source": [
    "# Plot the first column as a line plot\n",
    "plt.plot(df.iloc[:, 0], label='<Column 1>')\n",
    "\n",
    "# Show the plot\n",
    "plt.show()"
   ]
  },
  {
   "cell_type": "markdown",
   "metadata": {},
   "source": [
    "# 2.0 Data Preprocessing"
   ]
  },
  {
   "cell_type": "markdown",
   "metadata": {},
   "source": [
    "## Convert Categorical Features"
   ]
  },
  {
   "cell_type": "markdown",
   "metadata": {},
   "source": [
    "### Label Encoding"
   ]
  },
  {
   "cell_type": "code",
   "execution_count": null,
   "metadata": {},
   "outputs": [],
   "source": [
    "# Define the columns which should be encoded\n",
    "cols_cat = ['<Column 1>', '<Column 3>']\n",
    "\n",
    "\n",
    "# Loop through each categorical column to perform label encoding\n",
    "for i in cols_cat:\n",
    "    # Step 1: Store the original column values\n",
    "    original = df[i]\n",
    "\n",
    "    # Step 2: Create a mask for missing values in the column\n",
    "    mask = df[i].isnull()\n",
    "\n",
    "    # Step 3: Perform label encoding on the column and replace the original values\n",
    "    df[i] = LabelEncoder().fit_transform(df[i].astype(str))\n",
    "\n",
    "    # Step 4: Replace the encoded values with original values for missing values\n",
    "    df[i] = df[i].where(~mask, original)\n",
    "\n",
    "    # Step 5: Convert the column back to integers, treating 'nan' as NaN\n",
    "    df[i] = df[i].apply(lambda x: int(x) if str(x) != 'nan' else np.nan) "
   ]
  },
  {
   "cell_type": "markdown",
   "metadata": {},
   "source": [
    "## Fill Missing Values"
   ]
  },
  {
   "cell_type": "code",
   "execution_count": null,
   "metadata": {},
   "outputs": [],
   "source": [
    "# Define the imputer\n",
    "imputer = SimpleImputer(missing_values=np.nan, strategy='mean')\n",
    "\n",
    "# Apply the imputation to the dataset\n",
    "df = df.transform(df)"
   ]
  },
  {
   "cell_type": "markdown",
   "metadata": {},
   "source": [
    "## Save Preprocessed Dataset\n",
    "Save the processed data in a new file. Rename if you need multiple files."
   ]
  },
  {
   "cell_type": "code",
   "execution_count": null,
   "metadata": {},
   "outputs": [],
   "source": [
    "df.to_csv('wind-speed-analysis/data/processed/processed.csv', index=False)"
   ]
  },
  {
   "cell_type": "markdown",
   "metadata": {},
   "source": [
    "# 3.0 - Data Transformation"
   ]
  },
  {
   "cell_type": "markdown",
   "metadata": {},
   "source": [
    "## Apply Transformations"
   ]
  },
  {
   "cell_type": "markdown",
   "metadata": {},
   "source": [
    "### PCA"
   ]
  },
  {
   "cell_type": "code",
   "execution_count": null,
   "metadata": {},
   "outputs": [],
   "source": [
    "# Define and select the columns on which the pca is applied\n",
    "#cols = ['<Column 1>', '<Column 3>']\n",
    "cols = list(df.columns)\n",
    "\n",
    "# Fit the PCA and transform on the selected columns\n",
    "pca = PCA(n_components=2)\n",
    "data_pca = pca.fit_transform(df[cols])\n",
    "\n",
    "# Define a new name for the new features\n",
    "feature_name = 'pca_feature'\n",
    "\n",
    "# Convert the PCA data to a pandas dataframe\n",
    "new_cols = [f'{feature_name}_' + str(i+1) for i in range(data_pca.shape[1])]\n",
    "df_pca = pd.DataFrame(data_pca, columns=new_cols, index=df.index)\n",
    "\n",
    "# Concatenate the pca columns with the unselected columns\n",
    "df_untransformed = df[[col for col in df.columns if col not in cols]]\n",
    "df = pd.concat([df_pca, df_untransformed], axis=1)"
   ]
  },
  {
   "cell_type": "markdown",
   "metadata": {},
   "source": [
    "## Save Tranformed Dataset"
   ]
  },
  {
   "cell_type": "code",
   "execution_count": null,
   "metadata": {},
   "outputs": [],
   "source": [
    "df.to_csv('wind-speed-analysis/data/transformed/transformed.csv', index=False)"
   ]
  },
  {
   "cell_type": "markdown",
   "metadata": {
    "id": "PoxkFVyPmKMJ"
   },
   "source": [
    "# 4.0 - Data Analysis"
   ]
  },
  {
   "cell_type": "markdown",
   "metadata": {},
   "source": [
    "## Analysis"
   ]
  },
  {
   "cell_type": "markdown",
   "metadata": {},
   "source": [
    "### Split Data in Trainset and Testset"
   ]
  },
  {
   "cell_type": "code",
   "execution_count": null,
   "metadata": {},
   "outputs": [],
   "source": [
    "# Define X and y\n",
    "y = df['<Target Column>']\n",
    "X = df.drop(columns=['<Target Column>'])\n",
    "\n",
    "# Split the data\n",
    "X_train, X_test, y_train, y_test = train_test_split(X, y, test_size=0.3, random_state=42)\n",
    "\n",
    "# Get train and test size\n",
    "train_size = len(y_train)\n",
    "test_size = len(y_test)"
   ]
  },
  {
   "cell_type": "markdown",
   "metadata": {},
   "source": [
    "### Train and Evaluate ML Models\n",
    "Train and evaluate different models with different hyperparameter."
   ]
  },
  {
   "cell_type": "markdown",
   "metadata": {},
   "source": [
    "#### Decision Tree"
   ]
  },
  {
   "cell_type": "code",
   "execution_count": null,
   "metadata": {},
   "outputs": [],
   "source": [
    "# Define a decision tree\n",
    "dt = DecisionTreeRegressor(criterion='squared_error', max_depth=None)\n",
    "\n",
    "# Fit the model\n",
    "dt.fit(X_train, y_train)\n",
    "\n",
    "# Get train and test prediction\n",
    "pred_train = dt.predict(X_train)\n",
    "pred_test = dt.predict(X_test)\n",
    "\n",
    "# Compute the score\n",
    "train_score = mean_absolute_error(y_train, pred_train)\n",
    "test_score = mean_absolute_error(y_test, pred_test)"
   ]
  },
  {
   "cell_type": "code",
   "execution_count": null,
   "metadata": {},
   "outputs": [],
   "source": [
    "# Plot the test prediction\n",
    "fig, ax = plt.subplots()\n",
    "ax = df['<Target Column'].plot(ax=ax)\n",
    "plt.plot(pred_test, label='Decision Tree Prediction')\n",
    "plt.xlabel('Index')\n",
    "plt.ylabel('Target')\n",
    "plt.show()"
   ]
  },
  {
   "cell_type": "code",
   "execution_count": null,
   "metadata": {},
   "outputs": [],
   "source": []
  }
 ],
 "metadata": {
  "colab": {
   "authorship_tag": "ABX9TyN4Pvx8rIJWWog9ZJOkf8EJ",
   "provenance": [],
   "toc_visible": true
  },
  "kernelspec": {
   "display_name": "template_env",
   "language": "python",
   "name": "template_env"
  },
  "language_info": {
   "codemirror_mode": {
    "name": "ipython",
    "version": 3
   },
   "file_extension": ".py",
   "mimetype": "text/x-python",
   "name": "python",
   "nbconvert_exporter": "python",
   "pygments_lexer": "ipython3",
   "version": "3.9.18"
  }
 },
 "nbformat": 4,
 "nbformat_minor": 4
}
