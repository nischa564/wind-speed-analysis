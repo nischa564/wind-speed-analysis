{
 "cells": [
  {
   "cell_type": "markdown",
   "metadata": {
    "id": "PoxkFVyPmKMJ"
   },
   "source": [
    "# 1.0 Data Exploration\n",
    "This notebook allows to visualize the features of the raw dataset using different plots."
   ]
  },
  {
   "cell_type": "markdown",
   "metadata": {},
   "source": [
    "## Imports and loading\n",
    "Import necessary packages and load the raw data."
   ]
  },
  {
   "cell_type": "code",
   "execution_count": null,
   "metadata": {},
   "outputs": [],
   "source": [
    "import pandas as pd\n",
    "import matplotlib.pyplot as plt\n",
    "import plotly.graph_objs as go\n",
    "import plotly.express as px"
   ]
  },
  {
   "cell_type": "code",
   "execution_count": null,
   "metadata": {},
   "outputs": [],
   "source": [
    "# define numeric datatypes\n",
    "NUMERICS = ['int16', 'int32', 'int64', 'float16', 'float32', 'float64']"
   ]
  },
  {
   "cell_type": "code",
   "execution_count": null,
   "metadata": {},
   "outputs": [],
   "source": [
    "# load csv file\n",
    "#df = pd.read_csv('../data/raw/<your_data>.csv')"
   ]
  },
  {
   "cell_type": "markdown",
   "metadata": {},
   "source": [
    "## Display the Dataset\n",
    "Shows a few samples of the dataset."
   ]
  },
  {
   "cell_type": "code",
   "execution_count": null,
   "metadata": {},
   "outputs": [],
   "source": [
    "df"
   ]
  },
  {
   "cell_type": "markdown",
   "metadata": {},
   "source": [
    "## Statistics about the Data\n",
    "Shows common meta information and statistics of the dataset like datatypes, number of missing values, ..."
   ]
  },
  {
   "cell_type": "code",
   "execution_count": null,
   "metadata": {},
   "outputs": [],
   "source": [
    "df.shape\n",
    "# (#rows, #columns)"
   ]
  },
  {
   "cell_type": "code",
   "execution_count": null,
   "metadata": {},
   "outputs": [],
   "source": [
    "df.dtypes"
   ]
  },
  {
   "cell_type": "code",
   "execution_count": null,
   "metadata": {
    "scrolled": true
   },
   "outputs": [],
   "source": [
    "df.describe()"
   ]
  },
  {
   "cell_type": "code",
   "execution_count": null,
   "metadata": {},
   "outputs": [],
   "source": [
    "missing_values = df.isnull().sum()\n",
    "print(missing_values)"
   ]
  },
  {
   "cell_type": "markdown",
   "metadata": {},
   "source": [
    "## Visualize the Data"
   ]
  },
  {
   "cell_type": "markdown",
   "metadata": {},
   "source": [
    "### Line Plot\n",
    "Line plots are commonly used to visualize the trend of a variable over a continuous time. The plot connects data points with straight lines, making it easy to see the overall trend or pattern in the data."
   ]
  },
  {
   "cell_type": "code",
   "execution_count": null,
   "metadata": {},
   "outputs": [],
   "source": [
    "# Plot the first column as a line plot\n",
    "plt.plot(df.iloc[:, 0], label='<Column 1>')\n",
    "#plt.plot(df.iloc[:, 1], label='<Column 2>')\n",
    "\n",
    "# Add labels and title\n",
    "plt.xlabel('Index')\n",
    "plt.ylabel('Feature(s)')\n",
    "plt.title('Line Plot')\n",
    "\n",
    "# Add a legend\n",
    "plt.legend()\n",
    "\n",
    "# Show the plot\n",
    "plt.show()"
   ]
  },
  {
   "cell_type": "markdown",
   "metadata": {},
   "source": [
    "### Histogram\n",
    "Histograms are used to represent the distribution of a single variable and show the frequency of different values or ranges. The plot consists of bars where the height of each bar corresponds to the frequency of data within a specified bin or range."
   ]
  },
  {
   "cell_type": "code",
   "execution_count": null,
   "metadata": {},
   "outputs": [],
   "source": [
    "# Plot histogram for the first column\n",
    "plt.hist(df.iloc[:, 0], bins=10, alpha=0.5, label='<Column 1>')\n",
    "#plt.hist(df.iloc[:, 1], bins=10, alpha=0.5, label='<Column 2>')\n",
    "\n",
    "# Add labels and title\n",
    "plt.xlabel('Feature Values')\n",
    "plt.ylabel('Frequency')\n",
    "plt.title('Histogram')\n",
    "\n",
    "# Add a legend\n",
    "plt.legend()\n",
    "\n",
    "# Show the plot\n",
    "plt.show()"
   ]
  },
  {
   "cell_type": "markdown",
   "metadata": {},
   "source": [
    "### Violin Plot\n",
    "Violin plots are useful for visualizing the distribution of a variable or comparing the distributions of multiple variables. The plot combines aspects of box plots and kernel density estimation, providing insights into the distribution, quartiles, and probability density."
   ]
  },
  {
   "cell_type": "code",
   "execution_count": null,
   "metadata": {},
   "outputs": [],
   "source": [
    "# Create a Violin trace for each column\n",
    "traces = []\n",
    "for column in df.columns:\n",
    "    trace = go.Violin(y=df[column], name=column)\n",
    "    \n",
    "    # Set box_visible to False only if more than 5 features\n",
    "    if len(traces) > 5:\n",
    "        trace.visible = False\n",
    "    \n",
    "    traces.append(trace)\n",
    "\n",
    "# Create the layout\n",
    "layout = go.Layout(title='Violin Plot of Columns', xaxis=dict(title='Columns'), yaxis=dict(title='Values'))\n",
    "\n",
    "# Create the figure\n",
    "fig = go.Figure(data=traces, layout=layout)\n",
    "\n",
    "# Show the plot\n",
    "fig.show()"
   ]
  },
  {
   "cell_type": "markdown",
   "metadata": {},
   "source": [
    "### Correlation Map\n",
    "Correlation heatmaps are used to visualize the correlation structure between numeric variables in a dataset. Each cell in the heatmap represents the correlation coefficient between two variables. The color scale typically ranges from cool colors (e.g., blue) for negative correlations to warm colors (e.g., red) for positive correlations. A high positive correlation is represented by a lighter color, while a high negative correlation is represented by a darker color."
   ]
  },
  {
   "cell_type": "code",
   "execution_count": null,
   "metadata": {},
   "outputs": [],
   "source": [
    "# Select only numeric columns since only them can be shown\n",
    "cols_num = list(df.select_dtypes(include=NUMERICS).columns)\n",
    "# Select the columns that you need\n",
    "df_num = df[cols_num]\n",
    "\n",
    "corr = df_num.corr()\n",
    "fig = px.imshow(corr)\n",
    "fig.show()"
   ]
  },
  {
   "cell_type": "markdown",
   "metadata": {},
   "source": [
    "### Scatterplot\n",
    "Scatter plots with color encoding are useful for visualizing the relationship between two variables, where the color represents a third variable. Data points are represented as markers, and the color of each marker encodes information about a third variable, providing insights into multivariate relationships."
   ]
  },
  {
   "cell_type": "code",
   "execution_count": null,
   "metadata": {},
   "outputs": [],
   "source": [
    "# Select two columns for the scatter plot\n",
    "x_column = '<Column 1>'\n",
    "y_column = '<Column 2>'\n",
    "# Select a color column if you want to do classification\n",
    "#color_column = '<Class Column>'\n",
    "\n",
    "# Create a scatter plot trace\n",
    "scatter_trace = go.Scatter(\n",
    "    x=df[x_column],\n",
    "    y=df[y_column],\n",
    "    mode='markers',\n",
    "    marker=dict(\n",
    "        size=10,\n",
    "#        color=df[color_column],  # Use the values from the ColorColumn for color encoding\n",
    "#        colorscale='Viridis',  # You can choose a different colorscale if needed\n",
    "#        colorbar=dict(title=color_column)\n",
    "    ),\n",
    "    name=f'{x_column} vs {y_column}'\n",
    ")\n",
    "\n",
    "# Create the layout\n",
    "layout = go.Layout(title=f'Scatter Plot of {x_column} vs {y_column}', xaxis=dict(title=x_column), yaxis=dict(title=y_column))\n",
    "\n",
    "# Create the figure\n",
    "fig = go.Figure(data=[scatter_trace], layout=layout)\n",
    "\n",
    "# Show the plot\n",
    "fig.show()"
   ]
  }
 ],
 "metadata": {
  "colab": {
   "authorship_tag": "ABX9TyN4Pvx8rIJWWog9ZJOkf8EJ",
   "provenance": [],
   "toc_visible": true
  },
  "kernelspec": {
   "display_name": "template_env",
   "language": "python",
   "name": "template_env"
  },
  "language_info": {
   "codemirror_mode": {
    "name": "ipython",
    "version": 3
   },
   "file_extension": ".py",
   "mimetype": "text/x-python",
   "name": "python",
   "nbconvert_exporter": "python",
   "pygments_lexer": "ipython3",
   "version": "3.9.18"
  }
 },
 "nbformat": 4,
 "nbformat_minor": 4
}
